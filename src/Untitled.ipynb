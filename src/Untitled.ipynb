{
 "cells": [
  {
   "cell_type": "code",
   "execution_count": 1,
   "metadata": {},
   "outputs": [],
   "source": [
    "import requests\n",
    "from bs4 import BeautifulSoup\n",
    "import pandas as pd\n",
    "import numpy as np"
   ]
  },
  {
   "cell_type": "code",
   "execution_count": 2,
   "metadata": {},
   "outputs": [],
   "source": [
    "html = requests.get(\"https://www.1mg.com/drugs/pan-d-capsule-343042\")"
   ]
  },
  {
   "cell_type": "code",
   "execution_count": 3,
   "metadata": {},
   "outputs": [],
   "source": [
    "salt_class = \"saltInfo DrugHeader__meta-value___vqYM0\"\n",
    "drug_name_class = \"DrugHeader__title___1NKLq\"\n",
    "best_price_class = \"DrugPriceBox__best-price___32JXw\"\n",
    "prod_class = \"style__horizontal-card___1Zwmt\"\n",
    "search = \"https://www.1mg.com/search/all?name=\"\n",
    "base = \"https://www.1mg.com\"\n",
    "salt_class_new = \"FactBox__rowContent__JHFU7 FactBox__flexCenter__zYkHn col-3\""
   ]
  },
  {
   "cell_type": "code",
   "execution_count": 4,
   "metadata": {},
   "outputs": [],
   "source": [
    "def getMedicineInfo(med_name):\n",
    "    med_name = med_name.strip().split(\" \")\n",
    "    medname =\"\"\n",
    "    for j in med_name:\n",
    "        medname = medname+j+\"+\"\n",
    "    medname = medname[:-1]\n",
    "    #print(medname)\n",
    "    html = requests.get(search+medname)\n",
    "    data = BeautifulSoup(html.text)\n",
    "    a = data.find(class_=prod_class)\n",
    "    if a == None:\n",
    "        return [\"NOT FOUND\"]\n",
    "    add = a.a['href']\n",
    "    html1 = requests.get(base+add)\n",
    "#     print(html1)\n",
    "    data1 = BeautifulSoup(html1.text)\n",
    "    #         drug = data1.find(class_ =drug_name_class)\n",
    "    #         price = data1.find(class_ =best_price_class)\n",
    "    salt = data1.find(class_ = salt_class_new)\n",
    "    if salt == None:\n",
    "        return [\"NOT FOUND\"]\n",
    "    salt = salt.text\n",
    "    salts = salt.split(\"+\")\n",
    "    ans = []\n",
    "    for component in salts:\n",
    "        index = component.find(\"(\")\n",
    "        if index == -1:\n",
    "            ans.append(component)\n",
    "        else:\n",
    "            ans.append(component[:index].strip())\n",
    "    return ans"
   ]
  },
  {
   "cell_type": "code",
   "execution_count": 5,
   "metadata": {},
   "outputs": [
    {
     "name": "stdout",
     "output_type": "stream",
     "text": [
      "Mezol\n",
      "['Naphazoline', 'Chlorpheniramine Maleate', 'Methylcellulose']\n"
     ]
    }
   ],
   "source": [
    "saltName = input()\n",
    "print(getMedicineInfo(saltName))"
   ]
  }
 ],
 "metadata": {
  "kernelspec": {
   "display_name": "Python 3",
   "language": "python",
   "name": "python3"
  },
  "language_info": {
   "codemirror_mode": {
    "name": "ipython",
    "version": 3
   },
   "file_extension": ".py",
   "mimetype": "text/x-python",
   "name": "python",
   "nbconvert_exporter": "python",
   "pygments_lexer": "ipython3",
   "version": "3.7.0"
  }
 },
 "nbformat": 4,
 "nbformat_minor": 2
}
